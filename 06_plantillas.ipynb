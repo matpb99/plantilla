{
 "cells": [
  {
   "cell_type": "code",
   "execution_count": null,
   "metadata": {},
   "outputs": [],
   "source": [
    "data = {\n",
    "    \"EN EL MARCO DE LA PALA\": [\n",
    "        {\n",
    "            \"image\": \"https://cdn.shopify.com/s/files/1/0813/9531/9081/files/carbon_frame.png?v=1.0\",\n",
    "            \"description\": \"<strong>CARBON Frame</strong>: Marco de carbono. Utilizando este material en los marcos damos más rigidez y durabilidad al marco y a la pala en general.\"\n",
    "        },\n",
    "        {\n",
    "            \"image\": \"https://cdn.shopify.com/s/files/1/0813/9531/9081/files/dcs.png?v=1.0\",\n",
    "            \"description\": \"<strong>DCS Dynamic Composite Structure</strong>: Con la aplicación de más cantidad de material desde el marco hasta cuatro centímetros dentro de la cara conseguimos que no se note la diferencia de dureza entre el marco y la cara. De este modo conseguimos que no se produzcan grietas en la parte exterior de la pala.\"\n",
    "        }\n",
    "                                ],\n",
    "\n",
    "    \"EN EL NÚCLEO DE LA PALA\": [\n",
    "        {\n",
    "            \"image\": \"https://cdn.shopify.com/s/files/1/0813/9531/9081/files/hrs_core_plus.png?v=1.0\",\n",
    "            \"description\": \"<strong>HRS Core+</strong>: Núcleo con goma más densa aún que la HR3. Amplía la rapidez con la que el núcleo de la pala recupera su estado previo al golpeo de la bola. Con esta goma se consigue la máxima potencia.\"\n",
    "        },\n",
    "\n",
    "        {\n",
    "            \"image\": \"https://cdn.shopify.com/s/files/1/0813/9531/9081/files/hr2_core.png?v=1.0\",\n",
    "            \"description\": \"<strong>HR2 Core+</strong>: Núcleo de goma de baja densidad, con un menor peso/m2 por lo que se utiliza siempre para palas en las que se busca un tacto más blando\"\n",
    "        },\n",
    "        {\n",
    "            \"image\": \"https://cdn.shopify.com/s/files/1/0813/9531/9081/files/hr3_core.png?v=1.0\",\n",
    "            \"description\": \"<strong>HR3 Core</strong>: Núcleo con goma HR3 de alta densidad con el mayor efecto de memoria. Se consigue así una mayor potencia en el golpeo y salida de bola.\"\n",
    "        },\n",
    "        {\n",
    "            \"image\": \"https://cdn.shopify.com/s/files/1/0813/9531/9081/files/hr3_black_eva.png?v=1.0\",\n",
    "            \"description\": \"<strong>HR3 Core Black Eva</strong>: Núcleo con goma HR3 negra de alta densidad con el mayor efecto de memoria. Se consigue así una mayor potencia en el golpeo y salida de bola.\"\n",
    "        },\n",
    "\n",
    "        {\n",
    "            \"image\": \"https://cdn.shopify.com/s/files/1/0813/9531/9081/files/mbe.png?v=1.0\",\n",
    "            \"description\": \"<strong>MLD Black Eva</strong>: Núcleo multicapa que conjuga distintas densidades de goma para optimizar la salida de bola en golpeos defensivos de baja velocidad y la potencia en remates.\"\n",
    "        }\n",
    "\n",
    "                                ],\n",
    "\n",
    "    \"EN LA CARA DE LA PALA\": [\n",
    "        {\n",
    "            \"image\": \"https://cdn.shopify.com/s/files/1/0813/9531/9081/files/fiber_glass_silver.png?v=1.0\",\n",
    "            \"description\": \"<strong>FIBER GLASS Silver</strong>: Tejido de fibra de vidrio con un acabado metalizado para darle a este material un grado de rigidez que está entre el carbono y la fibra de vidrio.\"\n",
    "        },\n",
    "\n",
    "        {\n",
    "            \"image\": \"https://cdn.shopify.com/s/files/1/0813/9531/9081/files/fiber_carbon_3k.png?v=1.0\",\n",
    "            \"description\": \"<strong>FIBER CARBON 3K</strong>: El tejido 3K se consigue entrelazando los hilos de fibra de carbono formando cuadrados pequeños. \"\n",
    "        },\n",
    "\n",
    "        {\n",
    "            \"image\": \"https://cdn.shopify.com/s/files/1/0813/9531/9081/files/fiber_glass_3k.png?v=1.0\",\n",
    "            \"description\": \"<strong>FIBER GLASS 3K</strong>: El tejido 3K se consigue entrelazando los hilos de fibra formando cuadrados pequeños. En nuestro caso utilizamos una fibra 3K con un gramaje superior a la fibra de carbono normal logrando una mayor durabilidad del producto.\"\n",
    "        },\n",
    "        {\n",
    "            \"image\": \"https://cdn.shopify.com/s/files/1/0813/9531/9081/files/carbon_12k.png?v=1.0\",\n",
    "            \"description\": \"<strong>CARBON 12K</strong>: Carbono que se consigue entrelazando cintas de carbono vertical y horizontalmente. Al conseguir mucha más rigidez es un carbono más fino y con un peso 25% menor. Reducimos el peso de la pala sin perder rigidez ni durabilidad.\"\n",
    "        },\n",
    "        {\n",
    "            \"image\": \"https://cdn.shopify.com/s/files/1/0813/9531/9081/files/carbon_18k.png?v=1.0\",\n",
    "            \"description\": \"<strong>CARBON 18K</strong>: Máxima rigidez y resistencia manteniendo la ligereza de la pala gracias a los microfilamentos de carbono entrelazados más finos de nuestra gama de palas.\"\n",
    "        },\n",
    "        {\n",
    "            \"image\": \"https://cdn.shopify.com/s/files/1/0813/9531/9081/files/18k_alum.png?v=1.0\",\n",
    "            \"description\": \"<strong>CARBON 18K Alum</strong>: Carbono 18K Aluminizado que otorga un tacto sólido y confortable y un rendimiento más homogéneo ante los cambios de temperatura.\"\n",
    "        },\n",
    "\n",
    "        {\n",
    "            \"image\": \"https://cdn.shopify.com/s/files/1/0813/9531/9081/files/rough_surface.png?v=1.0\",\n",
    "            \"description\": \"<strong>ROUGH Surface</strong>: Superficie rugosa sobre la última capa de la cara de la pala. Puede hacerse mediante material plástico premoldeado o con un baño en arena de sílice de bajo gramaje. Con esta rugosidad se consigue golpes con mayor efecto.\"\n",
    "        },\n",
    "\n",
    "        {\n",
    "            \"image\": \"https://cdn.shopify.com/s/files/1/0813/9531/9081/files/spin_plus.png?v=1.0\",\n",
    "            \"description\": \"<strong>SPIN+</strong>: Novedosa tecnología que incluye dos tipos de acabado rugoso en la superficie de la cara, el 3D hexagonal ubicado en el centro de la pala y el acabado arena en el resto. Con esta doble rugosidad obtenemos mayor control y la posibilidad de imprimir mayores efectos a la bola. Moldeado con un baño en arena de sílice de bajo gramaje. Con esta rugosidad se consigue golpes con mayor efecto.\"\n",
    "        },\n",
    "\n",
    "        {\n",
    "            \"image\": \"https://cdn.shopify.com/s/files/1/0813/9531/9081/files/texture_3d.png?v=1.0\",\n",
    "            \"description\": \"<strong>TEXTURE 3D</strong>: Acabado rugoso aplicado a la última capa de la cara de la pala para incrementar el efecto de los golpeos sin renunciar a la durabilidad del rugoso.\"\n",
    "        }\n",
    "                            ],\n",
    "\n",
    "    \"OTRAS ZONAS DE LA PALA\": [\n",
    "        {\n",
    "            \"image\": \"https://cdn.shopify.com/s/files/1/0813/9531/9081/files/smartstrap.png?v=1.0\",\n",
    "            \"description\": \"<strong>SMARTSTRAP®</strong>: El Nox Smart Strap es la última tecnología implementada a la nueva colección de palas que te permitirá cambiar el cordón de agarre de forma ágil y sencilla.\"\n",
    "        },\n",
    "        {\n",
    "            \"image\": \"https://cdn.shopify.com/s/files/1/0813/9531/9081/files/oversize_grip.png?v=1.0\",\n",
    "            \"description\": \"<strong>OVERSIZE Grip</strong>: Ampliación de la empuñadura de 30 mm. para los jugadores que necesitan un grip más largo tanto si tienen algún golpe a dos manos como si no. \"\n",
    "        },\n",
    "        {\n",
    "            \"image\": \"https://cdn.shopify.com/s/files/1/0813/9531/9081/files/avs.png?v=1.0\",\n",
    "            \"description\": \"<strong>AVS Anti Vibration System</strong>: Piezas de goma que se incrustan en el marco de la pala para absorber las posibles vibraciones que se producen cuando no se golpea la pelota en el centro de la pala.\"\n",
    "        },\n",
    "\n",
    "        {\n",
    "            \"image\": \"https://cdn.shopify.com/s/files/1/0813/9531/9081/files/eos_flap.png?v=1.0\",\n",
    "            \"description\": \"<strong>EOS Flap</strong>: Perforaciones laterales diseñadas para incrementar la manejabilidad de la pala y repartir la distribución de pesos para que tengas en tus manos una pala rápida y letal.\"\n",
    "        },\n",
    "\n",
    "        {\n",
    "            \"image\": \"https://cdn.shopify.com/s/files/1/0813/9531/9081/files/pulse_system.png?v=1.0\",\n",
    "            \"description\": \"<strong>Pulse System</strong>: Disminución de las vibraciones que se transmiten a la mano del jugador con la inserción de gomas laterales que van desde la base del marco hasta la parte inferior del tapón de la pala.\"\n",
    "        },\n",
    "\n",
    "        {\n",
    "\n",
    "            \"image\": \"https://cdn.shopify.com/s/files/1/0813/9531/9081/files/custom_grip.png?v=1.0\",\n",
    "            \"description\": \"<strong>CUSTOM Grip</strong>:Toda la gama Luxury incorpora la tecnología patentada NOX Custom Grip®, certificada por Testea Padel para el aumento de agarre y disminución de vibraciones.\"\n",
    "        }\n",
    "    ]\n",
    "}\n"
   ]
  },
  {
   "cell_type": "code",
   "execution_count": null,
   "metadata": {},
   "outputs": [],
   "source": [
    "for elements in data['OTRAS ZONAS DE LA PALA']:\n",
    "    print(elements['description'])"
   ]
  },
  {
   "cell_type": "code",
   "execution_count": 6,
   "metadata": {},
   "outputs": [],
   "source": [
    "texto = \"\"\"Forma: Redonda\n",
    "- Peso: 350-370gr\n",
    "- Dimensiones: 50×30×4 cm\n",
    "- Núcleo: HR3\n",
    "- Marco: 100% carbono\n",
    "- Cara: Fibra de carbono\n",
    "- Control: 10/10\n",
    "- Potencia: 9/10\"\"\""
   ]
  },
  {
   "cell_type": "code",
   "execution_count": 7,
   "metadata": {},
   "outputs": [],
   "source": [
    "texto = texto.replace(\"-\",\"\")"
   ]
  },
  {
   "cell_type": "code",
   "execution_count": 8,
   "metadata": {},
   "outputs": [],
   "source": [
    "lineas = texto.split('\\n')"
   ]
  },
  {
   "cell_type": "code",
   "execution_count": 9,
   "metadata": {},
   "outputs": [
    {
     "data": {
      "text/plain": [
       "['Forma: Redonda',\n",
       " ' Peso: 350370gr',\n",
       " ' Dimensiones: 50×30×4 cm',\n",
       " ' Núcleo: HR3',\n",
       " ' Marco: 100% carbono',\n",
       " ' Cara: Fibra de carbono',\n",
       " ' Control: 10/10',\n",
       " ' Potencia: 9/10']"
      ]
     },
     "execution_count": 9,
     "metadata": {},
     "output_type": "execute_result"
    }
   ],
   "source": [
    "lineas"
   ]
  },
  {
   "cell_type": "code",
   "execution_count": 11,
   "metadata": {},
   "outputs": [
    {
     "name": "stdout",
     "output_type": "stream",
     "text": [
      "Forma  Redonda\n",
      "Peso  350370gr\n",
      "Dimensiones  50×30×4 cm\n",
      "Núcleo  HR3\n",
      "Marco  100% carbono\n",
      "Cara  Fibra de carbono\n",
      "Control  10/10\n",
      "Potencia  9/10\n"
     ]
    }
   ],
   "source": [
    "for linea in lineas:\n",
    "    linea = linea.strip()\n",
    "    clave, valor = linea.split(\":\")\n",
    "    print(clave,valor)"
   ]
  },
  {
   "cell_type": "code",
   "execution_count": null,
   "metadata": {},
   "outputs": [],
   "source": []
  }
 ],
 "metadata": {
  "kernelspec": {
   "display_name": "base",
   "language": "python",
   "name": "python3"
  },
  "language_info": {
   "codemirror_mode": {
    "name": "ipython",
    "version": 3
   },
   "file_extension": ".py",
   "mimetype": "text/x-python",
   "name": "python",
   "nbconvert_exporter": "python",
   "pygments_lexer": "ipython3",
   "version": "3.9.13"
  },
  "orig_nbformat": 4
 },
 "nbformat": 4,
 "nbformat_minor": 2
}
